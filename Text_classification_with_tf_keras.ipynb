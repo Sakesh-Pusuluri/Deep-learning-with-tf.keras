{
  "nbformat": 4,
  "nbformat_minor": 0,
  "metadata": {
    "colab": {
      "name": "Text classification with tf.keras.ipynb",
      "provenance": [],
      "collapsed_sections": []
    },
    "kernelspec": {
      "name": "python3",
      "display_name": "Python 3"
    },
    "accelerator": "GPU"
  },
  "cells": [
    {
      "cell_type": "markdown",
      "metadata": {
        "id": "T9g8__0d-D6H",
        "colab_type": "text"
      },
      "source": [
        "# <b> Text classification with tf.keras\n",
        "\n",
        "In this notebook, we will classify reviews of IMDB dataset"
      ]
    },
    {
      "cell_type": "markdown",
      "metadata": {
        "id": "y-6FkciO-3Wi",
        "colab_type": "text"
      },
      "source": [
        "<b> Importing packages</b>"
      ]
    },
    {
      "cell_type": "code",
      "metadata": {
        "id": "RLShLHBq6NXh",
        "colab_type": "code",
        "colab": {
          "base_uri": "https://localhost:8080/",
          "height": 34
        },
        "outputId": "ba5f6c25-9cad-4125-f6f8-27ed2c6e20ad"
      },
      "source": [
        "import tensorflow as tf\n",
        "print(tf.__version__)"
      ],
      "execution_count": 1,
      "outputs": [
        {
          "output_type": "stream",
          "text": [
            "2.3.0-dev20200514\n"
          ],
          "name": "stdout"
        }
      ]
    },
    {
      "cell_type": "markdown",
      "metadata": {
        "id": "BET6dJJc_LUP",
        "colab_type": "text"
      },
      "source": [
        "In this notebook, we will be using tensorflow developer version 2.3.0-dev20200514 for our task in hand."
      ]
    },
    {
      "cell_type": "markdown",
      "metadata": {
        "id": "gDlajmBU_6Ly",
        "colab_type": "text"
      },
      "source": [
        "<b> Loading data </b>"
      ]
    },
    {
      "cell_type": "code",
      "metadata": {
        "id": "5jGBRVYy_E_u",
        "colab_type": "code",
        "colab": {
          "base_uri": "https://localhost:8080/",
          "height": 67
        },
        "outputId": "7fffc036-c263-49b0-f3b0-3b494d1334d5"
      },
      "source": [
        "!curl -O https://ai.stanford.edu/~amaas/data/sentiment/aclImdb_v1.tar.gz\n",
        "!tar -xf aclImdb_v1.tar.gz"
      ],
      "execution_count": 2,
      "outputs": [
        {
          "output_type": "stream",
          "text": [
            "  % Total    % Received % Xferd  Average Speed   Time    Time     Time  Current\n",
            "                                 Dload  Upload   Total   Spent    Left  Speed\n",
            "100 80.2M  100 80.2M    0     0  11.3M      0  0:00:07  0:00:07 --:--:-- 17.9M\n"
          ],
          "name": "stdout"
        }
      ]
    },
    {
      "cell_type": "markdown",
      "metadata": {
        "id": "ZYsWTgnbAMNX",
        "colab_type": "text"
      },
      "source": [
        "IMDB review sentiment dataset is an open source dataset from standford."
      ]
    },
    {
      "cell_type": "markdown",
      "metadata": {
        "id": "ZX1XifsgBIaC",
        "colab_type": "text"
      },
      "source": [
        "<b>Checking directory structure</b>"
      ]
    },
    {
      "cell_type": "code",
      "metadata": {
        "id": "NZfPMW3HABkp",
        "colab_type": "code",
        "colab": {
          "base_uri": "https://localhost:8080/",
          "height": 34
        },
        "outputId": "4092f44a-c902-4fa7-e361-2145442c8e6e"
      },
      "source": [
        "# !ls will list the directory contents \n",
        "!ls #checking the folders downloaded"
      ],
      "execution_count": 3,
      "outputs": [
        {
          "output_type": "stream",
          "text": [
            "aclImdb  aclImdb_v1.tar.gz  logs1  sample_data\n"
          ],
          "name": "stdout"
        }
      ]
    },
    {
      "cell_type": "code",
      "metadata": {
        "id": "gGwDnfJyAiKS",
        "colab_type": "code",
        "colab": {
          "base_uri": "https://localhost:8080/",
          "height": 34
        },
        "outputId": "5103a3a3-90e9-4197-ad87-9cfad6083371"
      },
      "source": [
        "!ls aclImdb"
      ],
      "execution_count": 4,
      "outputs": [
        {
          "output_type": "stream",
          "text": [
            "imdbEr.txt  imdb.vocab\tREADME\ttest  train\n"
          ],
          "name": "stdout"
        }
      ]
    },
    {
      "cell_type": "code",
      "metadata": {
        "id": "EavIFJgfArje",
        "colab_type": "code",
        "colab": {
          "base_uri": "https://localhost:8080/",
          "height": 50
        },
        "outputId": "a54fe95c-70ad-436e-e68e-7cb628ae5ab3"
      },
      "source": [
        "!ls aclImdb/train"
      ],
      "execution_count": 5,
      "outputs": [
        {
          "output_type": "stream",
          "text": [
            "labeledBow.feat  pos\tunsupBow.feat  urls_pos.txt\n",
            "neg\t\t unsup\turls_neg.txt   urls_unsup.txt\n"
          ],
          "name": "stdout"
        }
      ]
    },
    {
      "cell_type": "code",
      "metadata": {
        "id": "Ax9D-SEvCP_F",
        "colab_type": "code",
        "colab": {
          "base_uri": "https://localhost:8080/",
          "height": 34
        },
        "outputId": "0e1ddef6-1b21-47a4-cd81-ef5974c89fa0"
      },
      "source": [
        "!ls aclImdb/test"
      ],
      "execution_count": 6,
      "outputs": [
        {
          "output_type": "stream",
          "text": [
            "labeledBow.feat  neg  pos  urls_neg.txt  urls_pos.txt\n"
          ],
          "name": "stdout"
        }
      ]
    },
    {
      "cell_type": "code",
      "metadata": {
        "id": "BktcLtcFBRza",
        "colab_type": "code",
        "colab": {
          "base_uri": "https://localhost:8080/",
          "height": 34
        },
        "outputId": "cfc17a15-c84c-4dea-f5a7-e03c6b2599ff"
      },
      "source": [
        "import os\n",
        "os.listdir('aclImdb/train/pos')[:5]"
      ],
      "execution_count": 7,
      "outputs": [
        {
          "output_type": "execute_result",
          "data": {
            "text/plain": [
              "['1312_9.txt', '7551_10.txt', '12493_8.txt', '6284_7.txt', '3545_7.txt']"
            ]
          },
          "metadata": {
            "tags": []
          },
          "execution_count": 7
        }
      ]
    },
    {
      "cell_type": "code",
      "metadata": {
        "id": "aKac42HwBlJd",
        "colab_type": "code",
        "colab": {
          "base_uri": "https://localhost:8080/",
          "height": 54
        },
        "outputId": "c1668865-e8e8-4867-f17d-90fce862ad65"
      },
      "source": [
        "!cat aclImdb/train/pos/1312_9.txt #cat command will show the contents in the given path."
      ],
      "execution_count": 8,
      "outputs": [
        {
          "output_type": "stream",
          "text": [
            "Chalk this one up in the win column, this was a superb movie. The acting performances were great and the script was equally great.<br /><br />Helen Hunt was magnificent as the Riverside police officer Gina Pulasky. Gina was a complex character. She was a rookie cop with the Riverside Police Dept. She ended up in an affair with a coworker that she knew had a wife and kids, all the while she took on the dangerous task of going undercover to catch a serial killer. <br /><br />Jeff Fahey (the Ray Liotta look alike) did a bang up job as the confused, often stammering, police officer that had an affair with Gina. He was stoic as an officer, but he was quite the opposite when it came to dealing with his feelings and his extra-marital affair.<br /><br />Steven Weber, most notably from the sitcom \"Wings\", did a nice job as the quiet, meek, underachieving sociopath. On the surface, he was an innocent loser, but beneath the surface lied a cold hearted killer. Weber really took on the persona of a childlike young adult with an insatiable thirst to kill young boys.<br /><br />The entire movie was spectacular. Each scene, each verbal exchange let us know more and more about the characters. The production team did a phenomenal job with condensing days, if not weeks worth of events into a 90 minute movie. This movie was a good example of doing a lot with little."
          ],
          "name": "stdout"
        }
      ]
    },
    {
      "cell_type": "code",
      "metadata": {
        "id": "kR2Q1vU4B5_e",
        "colab_type": "code",
        "colab": {
          "base_uri": "https://localhost:8080/",
          "height": 34
        },
        "outputId": "bf4ce80f-8d5a-4443-b335-65a1a45766a3"
      },
      "source": [
        "import os\n",
        "os.listdir('aclImdb/train/neg')[:5]"
      ],
      "execution_count": 9,
      "outputs": [
        {
          "output_type": "execute_result",
          "data": {
            "text/plain": [
              "['6925_3.txt', '823_4.txt', '8873_3.txt', '2474_1.txt', '6187_2.txt']"
            ]
          },
          "metadata": {
            "tags": []
          },
          "execution_count": 9
        }
      ]
    },
    {
      "cell_type": "code",
      "metadata": {
        "id": "B8JfB657CzBW",
        "colab_type": "code",
        "colab": {
          "base_uri": "https://localhost:8080/",
          "height": 54
        },
        "outputId": "f2a87a9d-a5a9-4523-db48-647d6ab24cf4"
      },
      "source": [
        "!cat aclImdb/train/neg/6925_3.txt #cat command will show the contents in the given path."
      ],
      "execution_count": 10,
      "outputs": [
        {
          "output_type": "stream",
          "text": [
            "I feel much less generous with this film than others of its ilk. The portrayal of madmen in this century is always done with them being so totally bizarre as to be a different species. Their antics are so outrageous as to be totally fictionalized. Everyone is Napoleon or some other historical figure; or they have a fascination with chickens. They are on the make or beating each other up. It's as if the scriptwriter said, what can I make up for them to do, without an sense of what insanity or even mental illness is. Watch the wonderful human portrayal in \"One Flew Over the Cuckoo's Nest\" where the illnesses are believable and real. I once worked in a State Mental hospital. I didn't see any of these guys. These are too smart and calculating to make them come to life."
          ],
          "name": "stdout"
        }
      ]
    },
    {
      "cell_type": "code",
      "metadata": {
        "id": "f_7QvszcMu-5",
        "colab_type": "code",
        "colab": {}
      },
      "source": [
        "!rm -r aclImdb/train/unsup"
      ],
      "execution_count": 0,
      "outputs": []
    },
    {
      "cell_type": "markdown",
      "metadata": {
        "id": "GWsDtZZzC8eY",
        "colab_type": "text"
      },
      "source": [
        "*  We have two folders **train, test**. In **train** and **test** , we have another two folders **pos** and **neg** .\n",
        "*  In **pos** folder, we have all the **positive** reviews.\n",
        "*  In **neg** folder, we have all the **negative** reviews."
      ]
    },
    {
      "cell_type": "markdown",
      "metadata": {
        "id": "QaH48y45IJ94",
        "colab_type": "text"
      },
      "source": [
        "<b> Loading generators to train batch wise</b>"
      ]
    },
    {
      "cell_type": "code",
      "metadata": {
        "id": "X2O-5Z4KC5UN",
        "colab_type": "code",
        "colab": {
          "base_uri": "https://localhost:8080/",
          "height": 151
        },
        "outputId": "0fe335c1-27a5-4a46-92c5-d4ac915c9510"
      },
      "source": [
        "batch_size= 32 # considering batch_size =32\n",
        "\n",
        "train_directory = tf.keras.preprocessing.text_dataset_from_directory(directory = \"aclImdb/train\",\n",
        "                                                                     batch_size=batch_size,\n",
        "                                                                     validation_split=0.2,\n",
        "                                                                     subset=\"training\",\n",
        "                                                                     seed=1337)\n",
        "\n",
        "validation_directory = tf.keras.preprocessing.text_dataset_from_directory(directory = \"aclImdb/train\",\n",
        "                                                                          batch_size=batch_size,\n",
        "                                                                          validation_split=0.2,\n",
        "                                                                          subset=\"validation\",\n",
        "                                                                          seed=1337)\n",
        "\n",
        "test_directory = tf.keras.preprocessing.text_dataset_from_directory(directory = \"aclImdb/test\",\n",
        "                                                                    batch_size=batch_size,\n",
        "                                                                    seed=1337)\n",
        "\n",
        "print('Number of batches in train_directory : %d'% tf.data.experimental.cardinality(train_directory))\n",
        "\n",
        "print('Number of batches in validation_directory : %d'% tf.data.experimental.cardinality(validation_directory))\n",
        "\n",
        "print('Number of batches in test_directory : %d' % tf.data.experimental.cardinality(test_directory))"
      ],
      "execution_count": 12,
      "outputs": [
        {
          "output_type": "stream",
          "text": [
            "Found 25000 files belonging to 2 classes.\n",
            "Using 20000 files for training.\n",
            "Found 25000 files belonging to 2 classes.\n",
            "Using 5000 files for validation.\n",
            "Found 25000 files belonging to 2 classes.\n",
            "Number of batches in train_directory : 625\n",
            "Number of batches in validation_directory : 157\n",
            "Number of batches in test_directory : 782\n"
          ],
          "name": "stdout"
        }
      ]
    },
    {
      "cell_type": "markdown",
      "metadata": {
        "id": "E7snXarML9b8",
        "colab_type": "text"
      },
      "source": [
        "<b>Previewing few examples</b>"
      ]
    },
    {
      "cell_type": "code",
      "metadata": {
        "id": "WDrE1WOVKF0O",
        "colab_type": "code",
        "colab": {
          "base_uri": "https://localhost:8080/",
          "height": 138
        },
        "outputId": "8b7d36c2-9b9a-4956-e8e5-9e9726d84ef3"
      },
      "source": [
        "for text_data,label_data in train_directory.take(1):\n",
        "  for i in range(3):\n",
        "    print(text_data.numpy()[i])\n",
        "    print(label_data.numpy()[i])"
      ],
      "execution_count": 13,
      "outputs": [
        {
          "output_type": "stream",
          "text": [
            "b'I\\'ve seen tons of science fiction from the 70s; some horrendously bad, and others thought provoking and truly frightening. Soylent Green fits into the latter category. Yes, at times it\\'s a little campy, and yes, the furniture is good for a giggle or two, but some of the film seems awfully prescient. Here we have a film, 9 years before Blade Runner, that dares to imagine the future as somthing dark, scary, and nihilistic. Both Charlton Heston and Edward G. Robinson fare far better in this than The Ten Commandments, and Robinson\\'s assisted-suicide scene is creepily prescient of Kevorkian and his ilk. Some of the attitudes are dated (can you imagine a filmmaker getting away with the \"women as furniture\" concept in our oh-so-politically-correct-90s?), but it\\'s rare to find a film from the Me Decade that actually can make you think. This is one I\\'d love to see on the big screen, because even in a widescreen presentation, I don\\'t think the overall scope of this film would receive its due. Check it out.'\n",
            "1\n",
            "b'First than anything, I\\'m not going to praise I\\xc3\\xb1arritu\\'s short film, even I\\'m Mexican and proud of his success in mainstream Hollywood.<br /><br />In another hand, I see most of the reviews focuses on their favorite (and not so) short films; but we are forgetting that there is a subtle bottom line that circles the whole compilation, and maybe it will not be so pleasant for American people. (Even if that was not the main purpose of the producers) <br /><br />What i\\'m talking about is that most of the short films does not show the suffering that WASP people went through because the terrorist attack on September 11th, but the suffering of the Other people.<br /><br />Do you need proofs about what i\\'m saying? Look, in the Bosnia short film, the message is: \"You cry because of the people who died in the Towers, but we (The Others = East Europeans) are crying long ago for the crimes committed against our women and nobody pay attention to us like the whole world has done to you\".<br /><br />Even though the Burkina Fasso story is more in comedy, there is a the same thought: \"You are angry because Osama Bin Laden punched you in an evil way, but we (The Others = Africans) should be more angry, because our people is dying of hunger, poverty and AIDS long time ago, and nobody pay attention to us like the whole world has done to you\".<br /><br />Look now at the Sean Penn short: The fall of the Twin Towers makes happy to a lonely (and alienated) man. So the message is that the Power and the Greed (symbolized by the Towers) must fall for letting the people see the sun rise and the flowers blossom? It is remarkable that this terrible bottom line has been proposed by an American. There is so much irony in this short film that it is close to be subversive.<br /><br />Well, the Ken Loach (very know because his anti-capitalism ideology) is much more clearly and shameless in going straight to the point: \"You are angry because your country has been attacked by evil forces, but we (The Others = Latin Americans) suffered at a similar date something worst, and nobody remembers our grief as the whole world has done to you\".<br /><br />It is like if the creative of this project wanted to say to Americans: \"You see now, America? You are not the only that have become victim of the world violence, you are not alone in your pain and by the way, we (the Others = the Non Americans) have been suffering a lot more than you from long time ago; so, we are in solidarity with you in your pain... and by the way, we are sorry because you have had some taste of your own medicine\" Only the Mexican and the French short films showed some compassion and sympathy for American people; the others are like a slap on the face for the American State, that is not equal to American People.'\n",
            "1\n",
            "b'Blood Castle (aka Scream of the Demon Lover, Altar of Blood, Ivanna--the best, but least exploitation cinema-sounding title, and so on) is a very traditional Gothic Romance film. That means that it has big, creepy castles, a headstrong young woman, a mysterious older man, hints of horror and the supernatural, and romance elements in the contemporary sense of that genre term. It also means that it is very deliberately paced, and that the film will work best for horror mavens who are big fans of understatement. If you love films like Robert Wise\\'s The Haunting (1963), but you also have a taste for late 1960s/early 1970s Spanish and Italian horror, you may love Blood Castle, as well.<br /><br />Baron Janos Dalmar (Carlos Quiney) lives in a large castle on the outskirts of a traditional, unspecified European village. The locals fear him because legend has it that whenever he beds a woman, she soon after ends up dead--the consensus is that he sets his ferocious dogs on them. This is quite a problem because the Baron has a very healthy appetite for women. At the beginning of the film, yet another woman has turned up dead and mutilated.<br /><br />Meanwhile, Dr. Ivanna Rakowsky (Erna Sch\\xc3\\xbcrer) has appeared in the center of the village, asking to be taken to Baron Dalmar\\'s castle. She\\'s an out-of-towner who has been hired by the Baron for her expertise in chemistry. Of course, no one wants to go near the castle. Finally, Ivanna finds a shady individual (who becomes even shadier) to take her. Once there, an odd woman who lives in the castle, Olga (Cristiana Galloni), rejects Ivanna and says that she shouldn\\'t be there since she\\'s a woman. Baron Dalmar vacillates over whether she should stay. She ends up staying, but somewhat reluctantly. The Baron has hired her to try to reverse the effects of severe burns, which the Baron\\'s brother, Igor, is suffering from.<br /><br />Unfortunately, the Baron\\'s brother appears to be just a lump of decomposing flesh in a vat of bizarre, blackish liquid. And furthermore, Ivanna is having bizarre, hallucinatory dreams. Just what is going on at the castle? Is the Baron responsible for the crimes? Is he insane? <br /><br />I wanted to like Blood Castle more than I did. As I mentioned, the film is very deliberate in its pacing, and most of it is very understated. I can go either way on material like that. I don\\'t care for The Haunting (yes, I\\'m in a very small minority there), but I\\'m a big fan of 1960s and 1970s European horror. One of my favorite directors is Mario Bava. I also love Dario Argento\\'s work from that period. But occasionally, Blood Castle moved a bit too slow for me at times. There are large chunks that amount to scenes of not very exciting talking alternated with scenes of Ivanna slowly walking the corridors of the castle.<br /><br />But the atmosphere of the film is decent. Director Jos\\xc3\\xa9 Luis Merino managed more than passable sets and locations, and they\\'re shot fairly well by Emanuele Di Cola. However, Blood Castle feels relatively low budget, and this is a Roger Corman-produced film, after all (which usually means a low-budget, though often surprisingly high quality \"quickie\"). So while there is a hint of the lushness of Bava\\'s colors and complex set decoration, everything is much more minimalist. Of course, it doesn\\'t help that the Retromedia print I watched looks like a 30-year old photograph that\\'s been left out in the sun too long. It appears \"washed out\", with compromised contrast.<br /><br />Still, Merino and Di Cola occasionally set up fantastic visuals. For example, a scene of Ivanna walking in a darkened hallway that\\'s shot from an exaggerated angle, and where an important plot element is revealed through shadows on a wall only. There are also a couple Ingmar Bergmanesque shots, where actors are exquisitely blocked to imply complex relationships, besides just being visually attractive and pulling your eye deep into the frame.<br /><br />The performances are fairly good, and the women--especially Sch\\xc3\\xbcrer--are very attractive. Merino exploits this fact by incorporating a decent amount of nudity. Sch\\xc3\\xbcrer went on to do a number of films that were as much soft corn porn as they were other genres, with English titles such as Sex Life in a Woman\\'s Prison (1974), Naked and Lustful (1974), Strip Nude for Your Killer (1975) and Erotic Exploits of a Sexy Seducer (1977). Blood Castle is much tamer, but in addition to the nudity, there are still mild scenes suggesting rape and bondage, and of course the scenes mixing sex and death.<br /><br />The primary attraction here, though, is probably the story, which is much a slow-burning romance as anything else. The horror elements, the mystery elements, and a somewhat unexpected twist near the end are bonuses, but in the end, Blood Castle is a love story, about a couple overcoming various difficulties and antagonisms (often with physical threats or harms) to be together.'\n",
            "1\n"
          ],
          "name": "stdout"
        }
      ]
    },
    {
      "cell_type": "markdown",
      "metadata": {
        "id": "rd-nh42_PuYJ",
        "colab_type": "text"
      },
      "source": [
        "<b> Preprocessing and preparing the data to train </b>"
      ]
    },
    {
      "cell_type": "markdown",
      "metadata": {
        "id": "rzBuusQnP-au",
        "colab_type": "text"
      },
      "source": [
        "*  Lowercasing data\n",
        "*  Removing `<br />` tags\n",
        "*  Removing punctuations"
      ]
    },
    {
      "cell_type": "code",
      "metadata": {
        "id": "GMhcEkdzMeGk",
        "colab_type": "code",
        "colab": {}
      },
      "source": [
        "from tensorflow.keras.layers.experimental.preprocessing import TextVectorization\n",
        "import string\n",
        "import re\n",
        "\n",
        "#custom function\n",
        "\n",
        "def custom_preprocess(input_data):\n",
        "  ''' In this function, we will do preprocessing on text'''\n",
        "  lower_case = tf.strings.lower(input_data)\n",
        "  cleaned_tags = tf.strings.regex_replace(lower_case,'<br />',' ')\n",
        "  return tf.strings.regex_replace(cleaned_tags,\"[%s]\" % re.escape(string.punctuation),'')\n",
        "\n",
        "# model constraints \n",
        "\n",
        "max_features = 20000\n",
        "embedding_dim = 128\n",
        "max_sequence_length =500\n",
        "\n",
        "# instantiating text vectorization layer\n",
        "\n",
        "vectorize_layer = TextVectorization(max_tokens = max_features, standardize = custom_preprocess, output_mode=\"int\",output_sequence_length = max_sequence_length)\n",
        "\n",
        "text_data = train_directory.map(lambda x, y: x) # considering only text data , no labels\n",
        "\n",
        "vectorize_layer.adapt(text_data)"
      ],
      "execution_count": 0,
      "outputs": []
    },
    {
      "cell_type": "markdown",
      "metadata": {
        "id": "HAlrCUnRYZKk",
        "colab_type": "text"
      },
      "source": [
        "<b> Vectorizing data</b>"
      ]
    },
    {
      "cell_type": "markdown",
      "metadata": {
        "id": "q7TdB0ltZW5c",
        "colab_type": "text"
      },
      "source": [
        "Here we are training on GPU. So, below code will help us **asynchronous CPU processing and buffering**."
      ]
    },
    {
      "cell_type": "code",
      "metadata": {
        "id": "ZyfWgv_dVrCF",
        "colab_type": "code",
        "colab": {}
      },
      "source": [
        "def vectorize_text(text, label):\n",
        "  '''In this function, we will expand the dimensions and will vectorize the data'''\n",
        "  text = tf.expand_dims(text,-1)\n",
        "  return vectorize_layer(text),label_data\n",
        "\n",
        "# vectorizing data\n",
        "\n",
        "train_ds = train_directory.map(vectorize_text)\n",
        "\n",
        "val_ds =  validation_directory.map(vectorize_text)\n",
        "\n",
        "test_ds = test_directory.map(vectorize_text)\n",
        "\n",
        "# Asynchronous prefetching/ buffering on data for better performance on GPU.\n",
        "\n",
        "train_data = train_ds.cache().prefetch(buffer_size = 10)\n",
        "\n",
        "val_data = val_d.cache().prefetch(buffer_size = 10)\n",
        "\n",
        "test_data = test_data.cache().prefetch(buffer_size = 10 )"
      ],
      "execution_count": 0,
      "outputs": []
    },
    {
      "cell_type": "markdown",
      "metadata": {
        "id": "kvWyriVfbyYR",
        "colab_type": "text"
      },
      "source": [
        "### **Baseline model**"
      ]
    },
    {
      "cell_type": "code",
      "metadata": {
        "id": "H5-BeULViTsm",
        "colab_type": "code",
        "colab": {}
      },
      "source": [
        "tf.keras.backend.clear_session()"
      ],
      "execution_count": 0,
      "outputs": []
    },
    {
      "cell_type": "code",
      "metadata": {
        "id": "XEFT3_Upbb2R",
        "colab_type": "code",
        "colab": {
          "base_uri": "https://localhost:8080/",
          "height": 487
        },
        "outputId": "bee985b5-b380-4d80-f20b-a068c5e8fb7f"
      },
      "source": [
        "from tensorflow.keras import layers\n",
        "\n",
        "# here we  are using functional API\n",
        "input = tf.keras.Input(shape=(None,),dtype='int64')\n",
        "\n",
        "embedding_layer = layers.Embedding(max_features+1,embedding_dim)(input)\n",
        "\n",
        "x = layers.Dropout(0.5)(embedding_layer)\n",
        "\n",
        "x = layers.Conv1D(128, 7, padding=\"valid\", activation=\"relu\", strides=3)(x)\n",
        "\n",
        "x = layers.Dropout(0.5)(x)\n",
        "\n",
        "x = layers.Conv1D(128, 7, padding=\"valid\", activation=\"relu\", strides=3)(x)\n",
        "\n",
        "x = layers.GlobalMaxPooling1D()(x)\n",
        "\n",
        "x = layers.Dense(128, activation=\"relu\")(x)\n",
        "\n",
        "x = layers.Dropout(0.5)(x)\n",
        "\n",
        "output = layers.Dense(1, activation=\"sigmoid\", name=\"predictions\")(x)\n",
        "\n",
        "model = tf.keras.Model(input, output)\n",
        "\n",
        "model.compile(loss='binary_crossentropy',optimizer='adam',metrics=['accuracy'])\n",
        "\n",
        "model.summary()"
      ],
      "execution_count": 51,
      "outputs": [
        {
          "output_type": "stream",
          "text": [
            "Model: \"functional_1\"\n",
            "_________________________________________________________________\n",
            "Layer (type)                 Output Shape              Param #   \n",
            "=================================================================\n",
            "input_1 (InputLayer)         [(None, None)]            0         \n",
            "_________________________________________________________________\n",
            "embedding (Embedding)        (None, None, 128)         2560128   \n",
            "_________________________________________________________________\n",
            "dropout (Dropout)            (None, None, 128)         0         \n",
            "_________________________________________________________________\n",
            "conv1d (Conv1D)              (None, None, 128)         114816    \n",
            "_________________________________________________________________\n",
            "dropout_1 (Dropout)          (None, None, 128)         0         \n",
            "_________________________________________________________________\n",
            "conv1d_1 (Conv1D)            (None, None, 128)         114816    \n",
            "_________________________________________________________________\n",
            "global_max_pooling1d (Global (None, 128)               0         \n",
            "_________________________________________________________________\n",
            "dense (Dense)                (None, 128)               16512     \n",
            "_________________________________________________________________\n",
            "dropout_2 (Dropout)          (None, 128)               0         \n",
            "_________________________________________________________________\n",
            "predictions (Dense)          (None, 1)                 129       \n",
            "=================================================================\n",
            "Total params: 2,806,401\n",
            "Trainable params: 2,806,401\n",
            "Non-trainable params: 0\n",
            "_________________________________________________________________\n"
          ],
          "name": "stdout"
        }
      ]
    },
    {
      "cell_type": "code",
      "metadata": {
        "id": "INXmopCBKkJI",
        "colab_type": "code",
        "colab": {}
      },
      "source": [
        "from tensorflow.keras import layers\n",
        "\n",
        "# A integer input for vocab indices.\n",
        "inputs = tf.keras.Input(shape=(None,), dtype=\"int64\")\n",
        "\n",
        "# Next, we add a layer to map those vocab indices into a space of dimensionality\n",
        "# 'embedding_dim'. Note that we're using max_features+1 here, since there's an\n",
        "# OOV token that gets added to the vocabulary in vectorize_layer.\n",
        "x = layers.Embedding(max_features + 1, embedding_dim)(inputs)\n",
        "x = layers.Dropout(0.5)(x)\n",
        "\n",
        "# Conv1D + global max pooling\n",
        "x = layers.Conv1D(128, 7, padding=\"valid\", activation=\"relu\", strides=3)(x)\n",
        "x = layers.Conv1D(128, 7, padding=\"valid\", activation=\"relu\", strides=3)(x)\n",
        "x = layers.GlobalMaxPooling1D()(x)\n",
        "\n",
        "# We add a vanilla hidden layer:\n",
        "x = layers.Dense(128, activation=\"relu\")(x)\n",
        "x = layers.Dropout(0.5)(x)\n",
        "\n",
        "# We project onto a single unit output layer, and squash it with a sigmoid:\n",
        "predictions = layers.Dense(1, activation=\"sigmoid\", name=\"predictions\")(x)\n",
        "\n",
        "model = tf.keras.Model(inputs, predictions)\n",
        "\n",
        "# Compile the model with binary crossentropy loss and an adam optimizer.\n",
        "model.compile(loss=\"binary_crossentropy\", optimizer=\"adam\", metrics=[\"accuracy\"])\n"
      ],
      "execution_count": 0,
      "outputs": []
    },
    {
      "cell_type": "code",
      "metadata": {
        "id": "ysvF6pvbeheD",
        "colab_type": "code",
        "colab": {
          "base_uri": "https://localhost:8080/",
          "height": 118
        },
        "outputId": "3913d33f-245c-4494-a1f3-0b4233896907"
      },
      "source": [
        "history=model.fit(train_data,validation_data= val_data,epochs = 3)"
      ],
      "execution_count": 55,
      "outputs": [
        {
          "output_type": "stream",
          "text": [
            "Epoch 1/3\n",
            "625/625 [==============================] - 20s 32ms/step - loss: 0.6863 - accuracy: 0.5616 - val_loss: 0.6853 - val_accuracy: 0.5625\n",
            "Epoch 2/3\n",
            "625/625 [==============================] - 19s 31ms/step - loss: 0.6841 - accuracy: 0.5612 - val_loss: 0.6872 - val_accuracy: 0.5625\n",
            "Epoch 3/3\n",
            "625/625 [==============================] - 19s 31ms/step - loss: 0.6315 - accuracy: 0.6381 - val_loss: 0.7450 - val_accuracy: 0.4982\n"
          ],
          "name": "stdout"
        }
      ]
    },
    {
      "cell_type": "code",
      "metadata": {
        "id": "YjRdjeUTiAGN",
        "colab_type": "code",
        "colab": {}
      },
      "source": [
        "history.history"
      ],
      "execution_count": 0,
      "outputs": []
    }
  ]
}