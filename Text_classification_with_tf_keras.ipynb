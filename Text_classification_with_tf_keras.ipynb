{
  "nbformat": 4,
  "nbformat_minor": 0,
  "metadata": {
    "colab": {
      "name": "Text classification with tf.keras.ipynb",
      "provenance": [],
      "collapsed_sections": []
    },
    "kernelspec": {
      "name": "python3",
      "display_name": "Python 3"
    },
    "accelerator": "GPU"
  },
  "cells": [
    {
      "cell_type": "markdown",
      "metadata": {
        "id": "T9g8__0d-D6H",
        "colab_type": "text"
      },
      "source": [
        "# <b> Text classification with tf.keras\n",
        "\n",
        "In this notebook, we will classify reviews of IMDB dataset"
      ]
    },
    {
      "cell_type": "markdown",
      "metadata": {
        "id": "y-6FkciO-3Wi",
        "colab_type": "text"
      },
      "source": [
        "<b> Importing packages</b>"
      ]
    },
    {
      "cell_type": "code",
      "metadata": {
        "id": "RLShLHBq6NXh",
        "colab_type": "code",
        "outputId": "f9a29145-b96e-4a59-9afa-9fbbf579b36d",
        "colab": {
          "base_uri": "https://localhost:8080/",
          "height": 34
        }
      },
      "source": [
        "import tensorflow as tf\n",
        "print(tf.__version__)"
      ],
      "execution_count": 1,
      "outputs": [
        {
          "output_type": "stream",
          "text": [
            "2.3.0-dev20200514\n"
          ],
          "name": "stdout"
        }
      ]
    },
    {
      "cell_type": "markdown",
      "metadata": {
        "id": "BET6dJJc_LUP",
        "colab_type": "text"
      },
      "source": [
        "In this notebook, we will be using tensorflow developer version 2.3.0-dev20200514 for our task in hand."
      ]
    },
    {
      "cell_type": "markdown",
      "metadata": {
        "id": "gDlajmBU_6Ly",
        "colab_type": "text"
      },
      "source": [
        "<b> Loading data </b>"
      ]
    },
    {
      "cell_type": "code",
      "metadata": {
        "id": "5jGBRVYy_E_u",
        "colab_type": "code",
        "outputId": "df0ccd9d-57a3-4b30-98f1-f65061ede4cb",
        "colab": {
          "base_uri": "https://localhost:8080/",
          "height": 67
        }
      },
      "source": [
        "!curl -O https://ai.stanford.edu/~amaas/data/sentiment/aclImdb_v1.tar.gz\n",
        "!tar -xf aclImdb_v1.tar.gz"
      ],
      "execution_count": 2,
      "outputs": [
        {
          "output_type": "stream",
          "text": [
            "  % Total    % Received % Xferd  Average Speed   Time    Time     Time  Current\n",
            "                                 Dload  Upload   Total   Spent    Left  Speed\n",
            "100 80.2M  100 80.2M    0     0  10.8M      0  0:00:07  0:00:07 --:--:-- 19.2M\n"
          ],
          "name": "stdout"
        }
      ]
    },
    {
      "cell_type": "markdown",
      "metadata": {
        "id": "ZYsWTgnbAMNX",
        "colab_type": "text"
      },
      "source": [
        "IMDB review sentiment dataset is an open source dataset from standford."
      ]
    },
    {
      "cell_type": "markdown",
      "metadata": {
        "id": "ZX1XifsgBIaC",
        "colab_type": "text"
      },
      "source": [
        "<b>Checking directory structure</b>"
      ]
    },
    {
      "cell_type": "code",
      "metadata": {
        "id": "NZfPMW3HABkp",
        "colab_type": "code",
        "outputId": "a7c62c9d-1df0-41c8-952f-45db04d2b565",
        "colab": {
          "base_uri": "https://localhost:8080/",
          "height": 34
        }
      },
      "source": [
        "# !ls will list the directory contents \n",
        "!ls #checking the folders downloaded"
      ],
      "execution_count": 3,
      "outputs": [
        {
          "output_type": "stream",
          "text": [
            "aclImdb  aclImdb_v1.tar.gz  sample_data\n"
          ],
          "name": "stdout"
        }
      ]
    },
    {
      "cell_type": "code",
      "metadata": {
        "id": "gGwDnfJyAiKS",
        "colab_type": "code",
        "outputId": "47fdc764-73cc-4235-9a6f-c534c85a6f05",
        "colab": {
          "base_uri": "https://localhost:8080/",
          "height": 34
        }
      },
      "source": [
        "!ls aclImdb"
      ],
      "execution_count": 4,
      "outputs": [
        {
          "output_type": "stream",
          "text": [
            "imdbEr.txt  imdb.vocab\tREADME\ttest  train\n"
          ],
          "name": "stdout"
        }
      ]
    },
    {
      "cell_type": "code",
      "metadata": {
        "id": "EavIFJgfArje",
        "colab_type": "code",
        "outputId": "8529e70d-ca9f-4310-a28d-5bc0fef8e5b5",
        "colab": {
          "base_uri": "https://localhost:8080/",
          "height": 50
        }
      },
      "source": [
        "!ls aclImdb/train"
      ],
      "execution_count": 5,
      "outputs": [
        {
          "output_type": "stream",
          "text": [
            "labeledBow.feat  pos\tunsupBow.feat  urls_pos.txt\n",
            "neg\t\t unsup\turls_neg.txt   urls_unsup.txt\n"
          ],
          "name": "stdout"
        }
      ]
    },
    {
      "cell_type": "code",
      "metadata": {
        "id": "Ax9D-SEvCP_F",
        "colab_type": "code",
        "outputId": "69601545-e135-44e1-d857-1b84f830d09f",
        "colab": {
          "base_uri": "https://localhost:8080/",
          "height": 34
        }
      },
      "source": [
        "!ls aclImdb/test"
      ],
      "execution_count": 6,
      "outputs": [
        {
          "output_type": "stream",
          "text": [
            "labeledBow.feat  neg  pos  urls_neg.txt  urls_pos.txt\n"
          ],
          "name": "stdout"
        }
      ]
    },
    {
      "cell_type": "code",
      "metadata": {
        "id": "BktcLtcFBRza",
        "colab_type": "code",
        "outputId": "d2a79234-d68f-4c37-dde8-87e0271a8af9",
        "colab": {
          "base_uri": "https://localhost:8080/",
          "height": 34
        }
      },
      "source": [
        "import os\n",
        "os.listdir('aclImdb/train/pos')[:5]"
      ],
      "execution_count": 7,
      "outputs": [
        {
          "output_type": "execute_result",
          "data": {
            "text/plain": [
              "['1312_9.txt', '7551_10.txt', '12493_8.txt', '6284_7.txt', '3545_7.txt']"
            ]
          },
          "metadata": {
            "tags": []
          },
          "execution_count": 7
        }
      ]
    },
    {
      "cell_type": "code",
      "metadata": {
        "id": "aKac42HwBlJd",
        "colab_type": "code",
        "outputId": "540ddf82-8290-4f0a-825e-ea1da394adc6",
        "colab": {
          "base_uri": "https://localhost:8080/",
          "height": 54
        }
      },
      "source": [
        "!cat aclImdb/train/pos/1312_9.txt #cat command will show the contents in the given path."
      ],
      "execution_count": 8,
      "outputs": [
        {
          "output_type": "stream",
          "text": [
            "Chalk this one up in the win column, this was a superb movie. The acting performances were great and the script was equally great.<br /><br />Helen Hunt was magnificent as the Riverside police officer Gina Pulasky. Gina was a complex character. She was a rookie cop with the Riverside Police Dept. She ended up in an affair with a coworker that she knew had a wife and kids, all the while she took on the dangerous task of going undercover to catch a serial killer. <br /><br />Jeff Fahey (the Ray Liotta look alike) did a bang up job as the confused, often stammering, police officer that had an affair with Gina. He was stoic as an officer, but he was quite the opposite when it came to dealing with his feelings and his extra-marital affair.<br /><br />Steven Weber, most notably from the sitcom \"Wings\", did a nice job as the quiet, meek, underachieving sociopath. On the surface, he was an innocent loser, but beneath the surface lied a cold hearted killer. Weber really took on the persona of a childlike young adult with an insatiable thirst to kill young boys.<br /><br />The entire movie was spectacular. Each scene, each verbal exchange let us know more and more about the characters. The production team did a phenomenal job with condensing days, if not weeks worth of events into a 90 minute movie. This movie was a good example of doing a lot with little."
          ],
          "name": "stdout"
        }
      ]
    },
    {
      "cell_type": "code",
      "metadata": {
        "id": "kR2Q1vU4B5_e",
        "colab_type": "code",
        "outputId": "6259e39f-822f-42d8-bd00-04586d98cba4",
        "colab": {
          "base_uri": "https://localhost:8080/",
          "height": 34
        }
      },
      "source": [
        "import os\n",
        "os.listdir('aclImdb/train/neg')[:5]"
      ],
      "execution_count": 9,
      "outputs": [
        {
          "output_type": "execute_result",
          "data": {
            "text/plain": [
              "['6925_3.txt', '823_4.txt', '8873_3.txt', '2474_1.txt', '6187_2.txt']"
            ]
          },
          "metadata": {
            "tags": []
          },
          "execution_count": 9
        }
      ]
    },
    {
      "cell_type": "code",
      "metadata": {
        "id": "B8JfB657CzBW",
        "colab_type": "code",
        "outputId": "ce7c45fc-6971-4ab5-8434-f9dc85ce9e46",
        "colab": {
          "base_uri": "https://localhost:8080/",
          "height": 54
        }
      },
      "source": [
        "!cat aclImdb/train/neg/6925_3.txt #cat command will show the contents in the given path."
      ],
      "execution_count": 10,
      "outputs": [
        {
          "output_type": "stream",
          "text": [
            "I feel much less generous with this film than others of its ilk. The portrayal of madmen in this century is always done with them being so totally bizarre as to be a different species. Their antics are so outrageous as to be totally fictionalized. Everyone is Napoleon or some other historical figure; or they have a fascination with chickens. They are on the make or beating each other up. It's as if the scriptwriter said, what can I make up for them to do, without an sense of what insanity or even mental illness is. Watch the wonderful human portrayal in \"One Flew Over the Cuckoo's Nest\" where the illnesses are believable and real. I once worked in a State Mental hospital. I didn't see any of these guys. These are too smart and calculating to make them come to life."
          ],
          "name": "stdout"
        }
      ]
    },
    {
      "cell_type": "code",
      "metadata": {
        "id": "f_7QvszcMu-5",
        "colab_type": "code",
        "colab": {}
      },
      "source": [
        "!rm -r aclImdb/train/unsup"
      ],
      "execution_count": 0,
      "outputs": []
    },
    {
      "cell_type": "markdown",
      "metadata": {
        "id": "GWsDtZZzC8eY",
        "colab_type": "text"
      },
      "source": [
        "*  We have two folders **train, test**. In **train** and **test** , we have another two folders **pos** and **neg** .\n",
        "*  In **pos** folder, we have all the **positive** reviews.\n",
        "*  In **neg** folder, we have all the **negative** reviews."
      ]
    },
    {
      "cell_type": "markdown",
      "metadata": {
        "id": "QaH48y45IJ94",
        "colab_type": "text"
      },
      "source": [
        "<b> Loading generators to train batch wise</b>"
      ]
    },
    {
      "cell_type": "code",
      "metadata": {
        "id": "X2O-5Z4KC5UN",
        "colab_type": "code",
        "outputId": "497d05e4-1c76-4e23-c9ba-2a6b4d7d66b5",
        "colab": {
          "base_uri": "https://localhost:8080/",
          "height": 151
        }
      },
      "source": [
        "batch_size= 32 # considering batch_size =32\n",
        "\n",
        "train_directory = tf.keras.preprocessing.text_dataset_from_directory(directory = \"aclImdb/train\",\n",
        "                                                                     batch_size=batch_size,\n",
        "                                                                     validation_split=0.2,\n",
        "                                                                     subset=\"training\",\n",
        "                                                                     seed=24)\n",
        "\n",
        "validation_directory = tf.keras.preprocessing.text_dataset_from_directory(directory = \"aclImdb/train\",\n",
        "                                                                          batch_size=batch_size,\n",
        "                                                                          validation_split=0.2,\n",
        "                                                                          subset=\"validation\",\n",
        "                                                                          seed=24)\n",
        "\n",
        "test_directory = tf.keras.preprocessing.text_dataset_from_directory(directory = \"aclImdb/test\",\n",
        "                                                                    batch_size=batch_size,\n",
        "                                                                    seed=24)\n",
        "\n",
        "print('Number of batches in train_directory : %d'% tf.data.experimental.cardinality(train_directory))\n",
        "\n",
        "print('Number of batches in validation_directory : %d'% tf.data.experimental.cardinality(validation_directory))\n",
        "\n",
        "print('Number of batches in test_directory : %d' % tf.data.experimental.cardinality(test_directory))"
      ],
      "execution_count": 12,
      "outputs": [
        {
          "output_type": "stream",
          "text": [
            "Found 25000 files belonging to 2 classes.\n",
            "Using 20000 files for training.\n",
            "Found 25000 files belonging to 2 classes.\n",
            "Using 5000 files for validation.\n",
            "Found 25000 files belonging to 2 classes.\n",
            "Number of batches in train_directory : 625\n",
            "Number of batches in validation_directory : 157\n",
            "Number of batches in test_directory : 782\n"
          ],
          "name": "stdout"
        }
      ]
    },
    {
      "cell_type": "markdown",
      "metadata": {
        "id": "E7snXarML9b8",
        "colab_type": "text"
      },
      "source": [
        "<b>Previewing few examples</b>"
      ]
    },
    {
      "cell_type": "code",
      "metadata": {
        "id": "WDrE1WOVKF0O",
        "colab_type": "code",
        "outputId": "ad34ad91-71c7-47dd-d587-9f76e891e073",
        "colab": {
          "base_uri": "https://localhost:8080/",
          "height": 138
        }
      },
      "source": [
        "for text_data,label_data in train_directory.take(1):\n",
        "  for i in range(3):\n",
        "    print(text_data.numpy()[i])\n",
        "    print(label_data.numpy()[i])"
      ],
      "execution_count": 13,
      "outputs": [
        {
          "output_type": "stream",
          "text": [
            "b'Although I was born in the year that this movie came out and had never heard of it until my junior year of high school (1996) when I saw it I became totally engrossed laughing and crying and feeling along with the characters because me and my friends were them.<br /><br />Their hair, clothes and speech were outdated but the emotions and the desperation of each situation were so familiar! I remember thinking how real it was and how I wished that they would make movies like that still.<br /><br />In fact I saw this movie the night after I had been at a crazy party (not so unlike the one in Jay\\'s house) which had been crashed by what we considered the loser derelicts who hung out on the fringes of our crowd. A world class BS\\'er and \"responsible\" mother figure type I identified immediately with Jeanie (I was also the one with a car) although I had a little bit of Madge\\'s insecurities floating around in there too. My best friend was a Deidre and her good friend from childhood was our Annie.<br /><br />Watching the scene when Jeanie is in school or the one where her and her boyfriend break up and then she is telling Madge how much she loved him felt like conversations and situations I had personally had.<br /><br />Now at the age of 27 I recently saw the movie again and felt a surge of emotions because it was like watching back a piece of my own youth (though none of my friends died). I think this is a must see for all girls 13 and up.'\n",
            "1\n",
            "b'I was very excited when this series premiered in 2005. The premise was very simple and appealing: each episode would be a one-hour mini movie directed by a famous, noteworthy horror director. Then, when I finally watched them it was a bit of a letdown. Some good episodes emerged from that first season, but all in all it was a mixed bag. I attributed it to the learning curve, and figured that season 2 would be a whole lot better.<br /><br />Boy, was I in for a shock. At least season one had a few good stories here and there. Season 2 (with the exception of \"The Black Cat\" starring the excellent Jeffrey Combs) was a complete and total loss to me. The episode \"Sounds Like\" may very well be the worst thing I have watched on TV in the last 10 years, and most of the other episodes aren\\'t much better. I really hope that season 3 turns this around next year, but I\\'m not holding my breath.'\n",
            "0\n",
            "b\"I liked Timothy Dalton very much even though he was a bit young and too handsome for Mr R. but I thought Zelah Clarke too plump and short. This version however was very true to the novel and very well filmed. I have seen 4 versions, Orson Welles is still my favorite Mr R , though George C Scott did very well and it's a toss up between Joan Fontaine and Sussanah York, although they were both a bit too old for the role. I recently saw a brilliant TV version of Rebecca with Charles Dance and Emilia Fox. I would love to see those two do Jane Eyre.By the time I got to watching the Ciarin Hinds version, I think I was Jane Eyred out, but I will never tire of those first few minutes of hearing Joan Fontaine's voice narrate the opening of the first version I ever saw. I always want to go back and read the book again.\"\n",
            "1\n"
          ],
          "name": "stdout"
        }
      ]
    },
    {
      "cell_type": "markdown",
      "metadata": {
        "id": "rd-nh42_PuYJ",
        "colab_type": "text"
      },
      "source": [
        "<b> Preprocessing and preparing the data to train </b>"
      ]
    },
    {
      "cell_type": "markdown",
      "metadata": {
        "id": "rzBuusQnP-au",
        "colab_type": "text"
      },
      "source": [
        "*  Lowercasing data\n",
        "*  Removing `<br />` tags\n",
        "*  Removing punctuations"
      ]
    },
    {
      "cell_type": "code",
      "metadata": {
        "id": "GMhcEkdzMeGk",
        "colab_type": "code",
        "colab": {}
      },
      "source": [
        "from tensorflow.keras.layers.experimental.preprocessing import TextVectorization\n",
        "import string\n",
        "import re\n",
        "\n",
        "#custom function\n",
        "\n",
        "def custom_preprocess(input_data):\n",
        "  ''' In this function, we will do preprocessing on text'''\n",
        "  lower_case = tf.strings.lower(input_data)\n",
        "  cleaned_tags = tf.strings.regex_replace(lower_case,'<br />',' ')\n",
        "  return tf.strings.regex_replace(cleaned_tags,\"[%s]\" % re.escape(string.punctuation),'')\n",
        "\n",
        "# model constraints \n",
        "\n",
        "max_features = 20000\n",
        "embedding_dim = 128\n",
        "max_sequence_length =500\n",
        "\n",
        "# instantiating text vectorization layer\n",
        "\n",
        "vectorize_layer = TextVectorization(standardize = custom_preprocess,max_tokens = max_features, output_mode=\"int\",output_sequence_length = max_sequence_length,)\n",
        "\n",
        "text_data = train_directory.map(lambda x, y: x) # considering only text data , no labels\n",
        "\n",
        "vectorize_layer.adapt(text_data)"
      ],
      "execution_count": 0,
      "outputs": []
    },
    {
      "cell_type": "markdown",
      "metadata": {
        "id": "HAlrCUnRYZKk",
        "colab_type": "text"
      },
      "source": [
        "<b> Vectorizing data</b>"
      ]
    },
    {
      "cell_type": "markdown",
      "metadata": {
        "id": "q7TdB0ltZW5c",
        "colab_type": "text"
      },
      "source": [
        "Here we are training on GPU. So, below code will help us **asynchronous CPU processing and buffering**."
      ]
    },
    {
      "cell_type": "code",
      "metadata": {
        "id": "ZyfWgv_dVrCF",
        "colab_type": "code",
        "colab": {}
      },
      "source": [
        "def vectorize_text(text, label):\n",
        "  '''In this function, we will expand the dimensions and will vectorize the data'''\n",
        "  text = tf.expand_dims(text,-1)\n",
        "  return vectorize_layer(text),label\n",
        "\n",
        "# vectorizing data\n",
        "\n",
        "train_data = train_directory.map(vectorize_text)\n",
        "\n",
        "val_data =  validation_directory.map(vectorize_text)\n",
        "\n",
        "test_data = test_directory.map(vectorize_text)\n",
        "\n",
        "# Asynchronous prefetching/ buffering on data for better performance on GPU.\n",
        "\n",
        "train_data = train_data.cache().prefetch(buffer_size = 10)\n",
        "\n",
        "val_data = val_data.cache().prefetch(buffer_size = 10)\n",
        "\n",
        "test_data = test_data.cache().prefetch(buffer_size = 10)"
      ],
      "execution_count": 0,
      "outputs": []
    },
    {
      "cell_type": "markdown",
      "metadata": {
        "id": "kvWyriVfbyYR",
        "colab_type": "text"
      },
      "source": [
        "### **Baseline model**"
      ]
    },
    {
      "cell_type": "code",
      "metadata": {
        "id": "H5-BeULViTsm",
        "colab_type": "code",
        "colab": {}
      },
      "source": [
        "tf.keras.backend.clear_session()"
      ],
      "execution_count": 0,
      "outputs": []
    },
    {
      "cell_type": "code",
      "metadata": {
        "id": "XEFT3_Upbb2R",
        "colab_type": "code",
        "outputId": "6f4f028a-8dfa-4980-b909-b20a03635c86",
        "colab": {
          "base_uri": "https://localhost:8080/",
          "height": 454
        }
      },
      "source": [
        "from tensorflow.keras import layers\n",
        "\n",
        "# here we  are using functional API\n",
        "input = tf.keras.Input(shape=(None,),dtype='int64')\n",
        "\n",
        "embedding_layer = layers.Embedding(max_features+1,embedding_dim)(input)\n",
        "\n",
        "x = layers.Conv1D(16, 7, padding=\"valid\", activation=\"relu\", strides=3)(embedding_layer)\n",
        "\n",
        "x = layers.Dropout(0.5)(x)\n",
        "\n",
        "x = layers.Conv1D(16, 7, padding=\"valid\", activation=\"relu\", strides=3)(x)\n",
        "\n",
        "x = layers.GlobalMaxPooling1D()(x)\n",
        "\n",
        "x = layers.Dense(16, activation=\"relu\")(x)\n",
        "\n",
        "x = layers.Dropout(0.5)(x)\n",
        "\n",
        "output = layers.Dense(1, activation=\"sigmoid\", name=\"predictions\")(x)\n",
        "\n",
        "model = tf.keras.Model(input, output)\n",
        "\n",
        "model.compile(loss='binary_crossentropy',optimizer='adam',metrics=['accuracy'])\n",
        "\n",
        "model.summary()"
      ],
      "execution_count": 17,
      "outputs": [
        {
          "output_type": "stream",
          "text": [
            "Model: \"functional_1\"\n",
            "_________________________________________________________________\n",
            "Layer (type)                 Output Shape              Param #   \n",
            "=================================================================\n",
            "input_1 (InputLayer)         [(None, None)]            0         \n",
            "_________________________________________________________________\n",
            "embedding (Embedding)        (None, None, 128)         2560128   \n",
            "_________________________________________________________________\n",
            "conv1d (Conv1D)              (None, None, 16)          14352     \n",
            "_________________________________________________________________\n",
            "dropout (Dropout)            (None, None, 16)          0         \n",
            "_________________________________________________________________\n",
            "conv1d_1 (Conv1D)            (None, None, 16)          1808      \n",
            "_________________________________________________________________\n",
            "global_max_pooling1d (Global (None, 16)                0         \n",
            "_________________________________________________________________\n",
            "dense (Dense)                (None, 16)                272       \n",
            "_________________________________________________________________\n",
            "dropout_1 (Dropout)          (None, 16)                0         \n",
            "_________________________________________________________________\n",
            "predictions (Dense)          (None, 1)                 17        \n",
            "=================================================================\n",
            "Total params: 2,576,577\n",
            "Trainable params: 2,576,577\n",
            "Non-trainable params: 0\n",
            "_________________________________________________________________\n"
          ],
          "name": "stdout"
        }
      ]
    },
    {
      "cell_type": "code",
      "metadata": {
        "id": "ysvF6pvbeheD",
        "colab_type": "code",
        "outputId": "615c0a7a-f493-4a88-c509-2e12776de837",
        "colab": {
          "base_uri": "https://localhost:8080/",
          "height": 118
        }
      },
      "source": [
        "history=model.fit(train_data,validation_data= val_data,epochs = 3)"
      ],
      "execution_count": 18,
      "outputs": [
        {
          "output_type": "stream",
          "text": [
            "Epoch 1/3\n",
            "625/625 [==============================] - 23s 36ms/step - loss: 0.6125 - accuracy: 0.6244 - val_loss: 0.3723 - val_accuracy: 0.8498\n",
            "Epoch 2/3\n",
            "625/625 [==============================] - 18s 29ms/step - loss: 0.3484 - accuracy: 0.8614 - val_loss: 0.3124 - val_accuracy: 0.8696\n",
            "Epoch 3/3\n",
            "625/625 [==============================] - 18s 29ms/step - loss: 0.2249 - accuracy: 0.9226 - val_loss: 0.3103 - val_accuracy: 0.8742\n"
          ],
          "name": "stdout"
        }
      ]
    },
    {
      "cell_type": "code",
      "metadata": {
        "id": "YjRdjeUTiAGN",
        "colab_type": "code",
        "colab": {
          "base_uri": "https://localhost:8080/",
          "height": 84
        },
        "outputId": "07bb2293-c078-4df8-b691-3ce0e428bff5"
      },
      "source": [
        "history.history"
      ],
      "execution_count": 19,
      "outputs": [
        {
          "output_type": "execute_result",
          "data": {
            "text/plain": [
              "{'accuracy': [0.6243500113487244, 0.8614000082015991, 0.9226499795913696],\n",
              " 'loss': [0.61247718334198, 0.348408579826355, 0.22487841546535492],\n",
              " 'val_accuracy': [0.8497999906539917, 0.8695999979972839, 0.8741999864578247],\n",
              " 'val_loss': [0.37226778268814087, 0.3123539686203003, 0.3102637231349945]}"
            ]
          },
          "metadata": {
            "tags": []
          },
          "execution_count": 19
        }
      ]
    },
    {
      "cell_type": "code",
      "metadata": {
        "id": "Mgu9g2tC_BdS",
        "colab_type": "code",
        "colab": {
          "base_uri": "https://localhost:8080/",
          "height": 295
        },
        "outputId": "c573e6fb-f4f6-4918-d069-b9af27cad394"
      },
      "source": [
        "import matplotlib.pyplot as plt\n",
        "loss_train = history.history['loss']\n",
        "loss_val = history.history['val_loss']\n",
        "epochs = range(1,4)\n",
        "plt.plot(epochs, loss_train, 'b--', label='Training loss')\n",
        "plt.plot(epochs, loss_val, 'r--', label='validation loss')\n",
        "plt.title('Training and Validation loss')\n",
        "plt.xlabel('Epochs')\n",
        "plt.ylabel('Loss')\n",
        "plt.legend()\n",
        "plt.show()"
      ],
      "execution_count": 20,
      "outputs": [
        {
          "output_type": "display_data",
          "data": {
            "image/png": "[encoded data removed]",
            "text/plain": [
              "<Figure size 432x288 with 1 Axes>"
            ]
          },
          "metadata": {
            "tags": [],
            "needs_background": "light"
          }
        }
      ]
    },
    {
      "cell_type": "code",
      "metadata": {
        "id": "XcMB40CT_rRp",
        "colab_type": "code",
        "colab": {
          "base_uri": "https://localhost:8080/",
          "height": 295
        },
        "outputId": "42d2e340-ad25-4bc7-f0f3-2b6baad9b434"
      },
      "source": [
        "import matplotlib.pyplot as plt\n",
        "loss_train = history.history['accuracy']\n",
        "loss_val = history.history['val_accuracy']\n",
        "epochs = range(1,4)\n",
        "plt.plot(epochs, loss_train, 'b--', label='Training accuracy')\n",
        "plt.plot(epochs, loss_val, 'r--', label='validation accuracy')\n",
        "plt.title('Training and Validation accuracy')\n",
        "plt.xlabel('Epochs')\n",
        "plt.ylabel('accuracy')\n",
        "plt.legend()\n",
        "plt.show()"
      ],
      "execution_count": 21,
      "outputs": [
        {
          "output_type": "display_data",
          "data": {
            "image/png": "[encoded data removed]",
            "text/plain": [
              "<Figure size 432x288 with 1 Axes>"
            ]
          },
          "metadata": {
            "tags": [],
            "needs_background": "light"
          }
        }
      ]
    },
    {
      "cell_type": "markdown",
      "metadata": {
        "id": "v2apj4NCG-IW",
        "colab_type": "text"
      },
      "source": [
        "<b> Evaluating model on test data </b>"
      ]
    },
    {
      "cell_type": "code",
      "metadata": {
        "id": "_hxUr_vEA49v",
        "colab_type": "code",
        "colab": {
          "base_uri": "https://localhost:8080/",
          "height": 50
        },
        "outputId": "b8450bc8-db1b-4a9a-9b2c-b358fea3a29f"
      },
      "source": [
        "model.evaluate(test_data)"
      ],
      "execution_count": 22,
      "outputs": [
        {
          "output_type": "stream",
          "text": [
            "782/782 [==============================] - 9s 11ms/step - loss: 0.3550 - accuracy: 0.8567\n"
          ],
          "name": "stdout"
        },
        {
          "output_type": "execute_result",
          "data": {
            "text/plain": [
              "[0.35500937700271606, 0.8566799759864807]"
            ]
          },
          "metadata": {
            "tags": []
          },
          "execution_count": 22
        }
      ]
    },
    {
      "cell_type": "markdown",
      "metadata": {
        "id": "VAj8W23WHKmB",
        "colab_type": "text"
      },
      "source": [
        "<b> Accuracy on test data is 85 %, it means that our model is doing pretty well.</b>"
      ]
    },
    {
      "cell_type": "markdown",
      "metadata": {
        "id": "ND_l9BMDHgyU",
        "colab_type": "text"
      },
      "source": [
        "<b>End to end pipeline</b>"
      ]
    },
    {
      "cell_type": "code",
      "metadata": {
        "id": "FTdDAEwDHFx1",
        "colab_type": "code",
        "colab": {
          "base_uri": "https://localhost:8080/",
          "height": 50
        },
        "outputId": "f7f74d11-f99c-4e1a-bf24-88c51b3751ac"
      },
      "source": [
        "input = tf.keras.Input(shape=(1,),dtype='string') # giving string input\n",
        "\n",
        "tokens = vectorize_layer(input) # string to tokens \n",
        "\n",
        "output = model(tokens) # prediction\n",
        "\n",
        "#end to end model\n",
        "\n",
        "end_to_end_model = tf.keras.Model(input,output)\n",
        "\n",
        "end_to_end_model.compile(loss='binary_crossentropy',optimizer='adam',metrics='accuracy')\n",
        "\n",
        "end_to_end_model.evaluate(test_directory) # testing with raw text data"
      ],
      "execution_count": 23,
      "outputs": [
        {
          "output_type": "stream",
          "text": [
            "782/782 [==============================] - 11s 14ms/step - loss: 0.3550 - accuracy: 0.8567\n"
          ],
          "name": "stdout"
        },
        {
          "output_type": "execute_result",
          "data": {
            "text/plain": [
              "[0.35500964522361755, 0.8566799759864807]"
            ]
          },
          "metadata": {
            "tags": []
          },
          "execution_count": 23
        }
      ]
    },
    {
      "cell_type": "markdown",
      "metadata": {
        "id": "HMG7KA2cI5e4",
        "colab_type": "text"
      },
      "source": [
        "**Reference**"
      ]
    },
    {
      "cell_type": "markdown",
      "metadata": {
        "id": "Ov7bWc3SI9pl",
        "colab_type": "text"
      },
      "source": [
        "*  https://keras.io/examples/nlp/text_classification_from_scratch/"
      ]
    }
  ]
}