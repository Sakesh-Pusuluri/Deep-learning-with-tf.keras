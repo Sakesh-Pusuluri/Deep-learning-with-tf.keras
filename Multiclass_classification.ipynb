{
  "nbformat": 4,
  "nbformat_minor": 0,
  "metadata": {
    "colab": {
      "name": "Multiclass classification.ipynb",
      "provenance": [],
      "collapsed_sections": []
    },
    "kernelspec": {
      "name": "python3",
      "display_name": "Python 3"
    }
  },
  "cells": [
    {
      "cell_type": "markdown",
      "metadata": {
        "id": "JNf8HgGOldNT",
        "colab_type": "text"
      },
      "source": [
        "**In this notebook, we will do multiclass classification on newswires dataset.**"
      ]
    },
    {
      "cell_type": "markdown",
      "metadata": {
        "id": "bocblUMGbodq",
        "colab_type": "text"
      },
      "source": [
        "**Importing packages**"
      ]
    },
    {
      "cell_type": "code",
      "metadata": {
        "id": "qvJo3zqrlQPb",
        "colab_type": "code",
        "colab": {
          "base_uri": "https://localhost:8080/",
          "height": 34
        },
        "outputId": "a2828665-0079-4846-9e64-730d6d3e857d"
      },
      "source": [
        "import tensorflow as tf\n",
        "print(tf.__version__)"
      ],
      "execution_count": 1,
      "outputs": [
        {
          "output_type": "stream",
          "text": [
            "2.2.0\n"
          ],
          "name": "stdout"
        }
      ]
    },
    {
      "cell_type": "markdown",
      "metadata": {
        "id": "b9XrRYGAb464",
        "colab_type": "text"
      },
      "source": [
        "In this notebook, we will be using tensorflow developer version 2.2.0 for our task in hand."
      ]
    },
    {
      "cell_type": "markdown",
      "metadata": {
        "id": "WAWJfn_Yb8ci",
        "colab_type": "text"
      },
      "source": [
        "<b> Loading data </b>"
      ]
    },
    {
      "cell_type": "code",
      "metadata": {
        "id": "-2c5YCVyb0AD",
        "colab_type": "code",
        "colab": {}
      },
      "source": [
        "(train_data,train_labels),(test_data,test_labels)=tf.keras.datasets.reuters.load_data(num_words=10000,test_split=0.2)"
      ],
      "execution_count": 0,
      "outputs": []
    },
    {
      "cell_type": "code",
      "metadata": {
        "id": "zla4DdPYcKmL",
        "colab_type": "code",
        "colab": {
          "base_uri": "https://localhost:8080/",
          "height": 54
        },
        "outputId": "36622525-fd01-4dd5-ce1e-27558d0376f2"
      },
      "source": [
        "print(train_data[0])"
      ],
      "execution_count": 3,
      "outputs": [
        {
          "output_type": "stream",
          "text": [
            "[1, 2, 2, 8, 43, 10, 447, 5, 25, 207, 270, 5, 3095, 111, 16, 369, 186, 90, 67, 7, 89, 5, 19, 102, 6, 19, 124, 15, 90, 67, 84, 22, 482, 26, 7, 48, 4, 49, 8, 864, 39, 209, 154, 6, 151, 6, 83, 11, 15, 22, 155, 11, 15, 7, 48, 9, 4579, 1005, 504, 6, 258, 6, 272, 11, 15, 22, 134, 44, 11, 15, 16, 8, 197, 1245, 90, 67, 52, 29, 209, 30, 32, 132, 6, 109, 15, 17, 12]\n"
          ],
          "name": "stdout"
        }
      ]
    },
    {
      "cell_type": "code",
      "metadata": {
        "id": "TIk6fTMrcia4",
        "colab_type": "code",
        "colab": {
          "base_uri": "https://localhost:8080/",
          "height": 34
        },
        "outputId": "0908d9fb-357b-4a66-a7b6-8a10948fc6dd"
      },
      "source": [
        "train_labels[0]"
      ],
      "execution_count": 4,
      "outputs": [
        {
          "output_type": "execute_result",
          "data": {
            "text/plain": [
              "3"
            ]
          },
          "metadata": {
            "tags": []
          },
          "execution_count": 4
        }
      ]
    },
    {
      "cell_type": "code",
      "metadata": {
        "id": "i4-b2iGgco-L",
        "colab_type": "code",
        "colab": {
          "base_uri": "https://localhost:8080/",
          "height": 67
        },
        "outputId": "bc23f672-d4d7-4389-b06c-b37e6f4c5efb"
      },
      "source": [
        "import numpy as np\n",
        "np.unique(train_labels)"
      ],
      "execution_count": 5,
      "outputs": [
        {
          "output_type": "execute_result",
          "data": {
            "text/plain": [
              "array([ 0,  1,  2,  3,  4,  5,  6,  7,  8,  9, 10, 11, 12, 13, 14, 15, 16,\n",
              "       17, 18, 19, 20, 21, 22, 23, 24, 25, 26, 27, 28, 29, 30, 31, 32, 33,\n",
              "       34, 35, 36, 37, 38, 39, 40, 41, 42, 43, 44, 45])"
            ]
          },
          "metadata": {
            "tags": []
          },
          "execution_count": 5
        }
      ]
    },
    {
      "cell_type": "markdown",
      "metadata": {
        "id": "_d02Fy73-Yfh",
        "colab_type": "text"
      },
      "source": [
        "Here we have 46 unique categories to classify "
      ]
    },
    {
      "cell_type": "code",
      "metadata": {
        "id": "CEQ13LwccwLa",
        "colab_type": "code",
        "colab": {}
      },
      "source": [
        "word_index = tf.keras.datasets.reuters.get_word_index()"
      ],
      "execution_count": 0,
      "outputs": []
    },
    {
      "cell_type": "code",
      "metadata": {
        "id": "lNCEUWcwdR8V",
        "colab_type": "code",
        "colab": {}
      },
      "source": [
        "reverse_word_index= dict([(value, key) for key,value in word_index.items()])"
      ],
      "execution_count": 0,
      "outputs": []
    },
    {
      "cell_type": "code",
      "metadata": {
        "id": "ZPvAstsleE3P",
        "colab_type": "code",
        "colab": {}
      },
      "source": [
        "decoded_newswire = ' '.join([reverse_word_index.get(i-3, '?') for i in train_data[0]])"
      ],
      "execution_count": 0,
      "outputs": []
    },
    {
      "cell_type": "code",
      "metadata": {
        "id": "tlhUTC1MejRu",
        "colab_type": "code",
        "colab": {
          "base_uri": "https://localhost:8080/",
          "height": 54
        },
        "outputId": "1e6f861d-8483-4a19-9cd0-d64f6e56d60d"
      },
      "source": [
        "decoded_newswire"
      ],
      "execution_count": 9,
      "outputs": [
        {
          "output_type": "execute_result",
          "data": {
            "text/plain": [
              "'? ? ? said as a result of its december acquisition of space co it expects earnings per share in 1987 of 1 15 to 1 30 dlrs per share up from 70 cts in 1986 the company said pretax net should rise to nine to 10 mln dlrs from six mln dlrs in 1986 and rental operation revenues to 19 to 22 mln dlrs from 12 5 mln dlrs it said cash flow per share this year should be 2 50 to three dlrs reuter 3'"
            ]
          },
          "metadata": {
            "tags": []
          },
          "execution_count": 9
        }
      ]
    },
    {
      "cell_type": "markdown",
      "metadata": {
        "id": "Tdt-0d7RfakI",
        "colab_type": "text"
      },
      "source": [
        "**Preparing data to train**"
      ]
    },
    {
      "cell_type": "code",
      "metadata": {
        "id": "Sgc_XNEP6ZoU",
        "colab_type": "code",
        "colab": {}
      },
      "source": [
        "def vectorize_sequence(text,dimensions=10000):\n",
        "  result = np.zeros((len(text),dimensions))\n",
        "  for i,sequence in enumerate(text):\n",
        "    result[i,sequence]=1\n",
        "  return result"
      ],
      "execution_count": 0,
      "outputs": []
    },
    {
      "cell_type": "code",
      "metadata": {
        "id": "DaR57wIV66C0",
        "colab_type": "code",
        "colab": {}
      },
      "source": [
        "x_train = vectorize_sequence(train_data)\n",
        "x_test=vectorize_sequence(test_data)"
      ],
      "execution_count": 0,
      "outputs": []
    },
    {
      "cell_type": "code",
      "metadata": {
        "id": "kD2QgFmr3cBG",
        "colab_type": "code",
        "colab": {}
      },
      "source": [
        "train_label=tf.keras.utils.to_categorical(train_labels,num_classes=46)\n",
        "test_label=tf.keras.utils.to_categorical(test_labels,num_classes=46)"
      ],
      "execution_count": 0,
      "outputs": []
    },
    {
      "cell_type": "code",
      "metadata": {
        "id": "2l8pFwz23eL8",
        "colab_type": "code",
        "colab": {
          "base_uri": "https://localhost:8080/",
          "height": 34
        },
        "outputId": "49b11cf0-eaf7-4a69-9d47-2727da64f28f"
      },
      "source": [
        "train_label.shape"
      ],
      "execution_count": 13,
      "outputs": [
        {
          "output_type": "execute_result",
          "data": {
            "text/plain": [
              "(8982, 46)"
            ]
          },
          "metadata": {
            "tags": []
          },
          "execution_count": 13
        }
      ]
    },
    {
      "cell_type": "code",
      "metadata": {
        "id": "vjM43hVG-jPi",
        "colab_type": "code",
        "colab": {
          "base_uri": "https://localhost:8080/",
          "height": 34
        },
        "outputId": "05cbd1fa-a7b9-4d4f-b3a0-ca295394cba7"
      },
      "source": [
        "x_train.shape"
      ],
      "execution_count": 14,
      "outputs": [
        {
          "output_type": "execute_result",
          "data": {
            "text/plain": [
              "(8982, 10000)"
            ]
          },
          "metadata": {
            "tags": []
          },
          "execution_count": 14
        }
      ]
    },
    {
      "cell_type": "markdown",
      "metadata": {
        "id": "KiPZSAHM4Lrw",
        "colab_type": "text"
      },
      "source": [
        "**Baseline model**"
      ]
    },
    {
      "cell_type": "code",
      "metadata": {
        "id": "7e68JYHR39NJ",
        "colab_type": "code",
        "colab": {}
      },
      "source": [
        "tf.keras.backend.clear_session()"
      ],
      "execution_count": 0,
      "outputs": []
    },
    {
      "cell_type": "code",
      "metadata": {
        "id": "-hZABQ2w4Oui",
        "colab_type": "code",
        "colab": {
          "base_uri": "https://localhost:8080/",
          "height": 353
        },
        "outputId": "0ffe1fc6-d2d5-4668-a9a3-f5b59587a9f4"
      },
      "source": [
        "from tensorflow.keras import layers\n",
        "\n",
        "# here we  are using functional API\n",
        "input = tf.keras.Input(shape=(10000,),dtype='int64')\n",
        "\n",
        "x = layers.Dense(128,activation='relu')(input)\n",
        "\n",
        "x = layers.Dropout(0.5)(x)\n",
        "\n",
        "x = layers.Dense(64, activation=\"relu\")(x)\n",
        "\n",
        "x = layers.Dropout(0.5)(x)\n",
        "\n",
        "output = layers.Dense(46, activation=\"softmax\", name=\"predictions\")(x)\n",
        "\n",
        "model = tf.keras.Model(input, output)\n",
        "\n",
        "model.compile(loss='categorical_crossentropy',optimizer='rmsprop',metrics=['accuracy'])\n",
        "\n",
        "model.summary()"
      ],
      "execution_count": 16,
      "outputs": [
        {
          "output_type": "stream",
          "text": [
            "Model: \"model\"\n",
            "_________________________________________________________________\n",
            "Layer (type)                 Output Shape              Param #   \n",
            "=================================================================\n",
            "input_1 (InputLayer)         [(None, 10000)]           0         \n",
            "_________________________________________________________________\n",
            "dense (Dense)                (None, 128)               1280128   \n",
            "_________________________________________________________________\n",
            "dropout (Dropout)            (None, 128)               0         \n",
            "_________________________________________________________________\n",
            "dense_1 (Dense)              (None, 64)                8256      \n",
            "_________________________________________________________________\n",
            "dropout_1 (Dropout)          (None, 64)                0         \n",
            "_________________________________________________________________\n",
            "predictions (Dense)          (None, 46)                2990      \n",
            "=================================================================\n",
            "Total params: 1,291,374\n",
            "Trainable params: 1,291,374\n",
            "Non-trainable params: 0\n",
            "_________________________________________________________________\n"
          ],
          "name": "stdout"
        }
      ]
    },
    {
      "cell_type": "code",
      "metadata": {
        "id": "wjONxMTE43j4",
        "colab_type": "code",
        "colab": {
          "base_uri": "https://localhost:8080/",
          "height": 319
        },
        "outputId": "4d021eae-ee2d-4159-c155-96dc3a7fa5f9"
      },
      "source": [
        "history=model.fit(x=x_train, y=train_label, batch_size = 512,validation_data=(x_test, test_label),epochs = 9)"
      ],
      "execution_count": 17,
      "outputs": [
        {
          "output_type": "stream",
          "text": [
            "Epoch 1/9\n",
            "18/18 [==============================] - 2s 103ms/step - loss: 2.5807 - accuracy: 0.4623 - val_loss: 1.6403 - val_accuracy: 0.6309\n",
            "Epoch 2/9\n",
            "18/18 [==============================] - 2s 92ms/step - loss: 1.6469 - accuracy: 0.6257 - val_loss: 1.3883 - val_accuracy: 0.6848\n",
            "Epoch 3/9\n",
            "18/18 [==============================] - 2s 91ms/step - loss: 1.3980 - accuracy: 0.6762 - val_loss: 1.2616 - val_accuracy: 0.7106\n",
            "Epoch 4/9\n",
            "18/18 [==============================] - 2s 90ms/step - loss: 1.2215 - accuracy: 0.7116 - val_loss: 1.1991 - val_accuracy: 0.7208\n",
            "Epoch 5/9\n",
            "18/18 [==============================] - 2s 89ms/step - loss: 1.1074 - accuracy: 0.7383 - val_loss: 1.1177 - val_accuracy: 0.7422\n",
            "Epoch 6/9\n",
            "18/18 [==============================] - 2s 89ms/step - loss: 1.0067 - accuracy: 0.7611 - val_loss: 1.0780 - val_accuracy: 0.7573\n",
            "Epoch 7/9\n",
            "18/18 [==============================] - 2s 91ms/step - loss: 0.9232 - accuracy: 0.7788 - val_loss: 1.0423 - val_accuracy: 0.7711\n",
            "Epoch 8/9\n",
            "18/18 [==============================] - 2s 86ms/step - loss: 0.8501 - accuracy: 0.7967 - val_loss: 1.0153 - val_accuracy: 0.7787\n",
            "Epoch 9/9\n",
            "18/18 [==============================] - 2s 86ms/step - loss: 0.7874 - accuracy: 0.8078 - val_loss: 1.0121 - val_accuracy: 0.7796\n"
          ],
          "name": "stdout"
        }
      ]
    },
    {
      "cell_type": "code",
      "metadata": {
        "id": "WiiADUgk5Tw4",
        "colab_type": "code",
        "colab": {
          "base_uri": "https://localhost:8080/",
          "height": 295
        },
        "outputId": "a2cf8776-96cf-4e84-f908-b2ccae890023"
      },
      "source": [
        "import matplotlib.pyplot as plt\n",
        "loss_train = history.history['loss']\n",
        "loss_val = history.history['val_loss']\n",
        "epochs = range(1,10)\n",
        "plt.plot(epochs, loss_train, 'b--', label='Training loss')\n",
        "plt.plot(epochs, loss_val, 'r--', label='validation loss')\n",
        "plt.title('Training and Validation loss')\n",
        "plt.xlabel('Epochs')\n",
        "plt.ylabel('Loss')\n",
        "plt.legend()\n",
        "plt.show()"
      ],
      "execution_count": 18,
      "outputs": [
        {
          "output_type": "display_data",
          "data": {
            "image/png": "[encoded data removed]",
            "text/plain": [
              "<Figure size 432x288 with 1 Axes>"
            ]
          },
          "metadata": {
            "tags": [],
            "needs_background": "light"
          }
        }
      ]
    },
    {
      "cell_type": "code",
      "metadata": {
        "id": "Ea8LyH8H8z4b",
        "colab_type": "code",
        "colab": {
          "base_uri": "https://localhost:8080/",
          "height": 295
        },
        "outputId": "32d0d7f8-2c2c-4b8c-99a1-aa7d6ac8760e"
      },
      "source": [
        "import matplotlib.pyplot as plt\n",
        "loss_train = history.history['accuracy']\n",
        "loss_val = history.history['val_accuracy']\n",
        "epochs = range(1,10)\n",
        "plt.plot(epochs, loss_train, 'b--', label='Training accuracy')\n",
        "plt.plot(epochs, loss_val, 'r--', label='validation accuracy')\n",
        "plt.title('Training and Validation accuracy')\n",
        "plt.xlabel('Epochs')\n",
        "plt.ylabel('accuracy')\n",
        "plt.legend()\n",
        "plt.show()"
      ],
      "execution_count": 19,
      "outputs": [
        {
          "output_type": "display_data",
          "data": {
            "image/png": "[encoded data removed]",
            "text/plain": [
              "<Figure size 432x288 with 1 Axes>"
            ]
          },
          "metadata": {
            "tags": [],
            "needs_background": "light"
          }
        }
      ]
    },
    {
      "cell_type": "code",
      "metadata": {
        "id": "vS03l1dB84rV",
        "colab_type": "code",
        "colab": {}
      },
      "source": [
        ""
      ],
      "execution_count": 0,
      "outputs": []
    }
  ]
}